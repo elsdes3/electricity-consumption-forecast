{
 "cells": [
  {
   "cell_type": "markdown",
   "id": "47598078-c410-4152-a12c-b138d5857520",
   "metadata": {
    "tags": []
   },
   "source": [
    "# Naive Forecasts"
   ]
  },
  {
   "cell_type": "code",
   "execution_count": 1,
   "id": "01bdf935-034f-4bd4-8c95-d660876fe954",
   "metadata": {
    "execution": {
     "iopub.execute_input": "2021-09-03T02:04:41.651102Z",
     "iopub.status.busy": "2021-09-03T02:04:41.650956Z",
     "iopub.status.idle": "2021-09-03T02:04:41.724209Z",
     "shell.execute_reply": "2021-09-03T02:04:41.723735Z",
     "shell.execute_reply.started": "2021-09-03T02:04:41.651058Z"
    },
    "tags": []
   },
   "outputs": [],
   "source": [
    "%load_ext lab_black\n",
    "%load_ext autoreload\n",
    "%autoreload 2"
   ]
  },
  {
   "cell_type": "code",
   "execution_count": 2,
   "id": "3280642d-dedb-4531-a796-7db070ac693f",
   "metadata": {
    "execution": {
     "iopub.execute_input": "2021-09-03T02:04:41.724793Z",
     "iopub.status.busy": "2021-09-03T02:04:41.724689Z",
     "iopub.status.idle": "2021-09-03T02:04:42.187103Z",
     "shell.execute_reply": "2021-09-03T02:04:42.186610Z",
     "shell.execute_reply.started": "2021-09-03T02:04:41.724779Z"
    },
    "tags": []
   },
   "outputs": [],
   "source": [
    "import os\n",
    "from glob import glob\n",
    "\n",
    "import numpy as np\n",
    "import pandas as pd\n",
    "from sklearn.pipeline import Pipeline"
   ]
  },
  {
   "cell_type": "code",
   "execution_count": 3,
   "id": "89e387e8-2745-41ec-a235-7fd1e01f64f9",
   "metadata": {
    "execution": {
     "iopub.execute_input": "2021-09-03T02:04:42.188591Z",
     "iopub.status.busy": "2021-09-03T02:04:42.188390Z",
     "iopub.status.idle": "2021-09-03T02:04:42.214268Z",
     "shell.execute_reply": "2021-09-03T02:04:42.213833Z",
     "shell.execute_reply.started": "2021-09-03T02:04:42.188577Z"
    },
    "tags": []
   },
   "outputs": [],
   "source": [
    "%aimport src.custom_estimators\n",
    "from src.custom_estimators import DFColumnRenamer, MultiTSCustomNaiveRegressor\n",
    "\n",
    "%aimport src.metrics_helpers\n",
    "from src.metrics_helpers import score_predictions\n",
    "\n",
    "%aimport src.utils\n",
    "from src.utils import show_df"
   ]
  },
  {
   "cell_type": "markdown",
   "id": "726cca5c-2019-4a83-a054-ff21bee8a029",
   "metadata": {},
   "source": [
    "<a id=\"table-of-contents\"></a>\n",
    "\n",
    "## [Table of Contents](#table-of-contents)\n",
    "\n",
    "0. [About](#about)\n",
    "1. [User Inputs](#user-inputs)\n",
    "2. [Load Data](#load-data)\n",
    "3. [Split Data](#split-data)\n",
    "4. [Make and Score Naive Forecasts](#make-and-score-naive-forecasts)"
   ]
  },
  {
   "cell_type": "markdown",
   "id": "4dd32092-7380-4d4b-b00c-fccf8478821e",
   "metadata": {
    "tags": []
   },
   "source": [
    "<a id=\"about\"></a>\n",
    "\n",
    "## 0. [About](#about)"
   ]
  },
  {
   "cell_type": "markdown",
   "id": "7e5e0b0c-a32d-4fda-9e28-3412ded9a18d",
   "metadata": {},
   "source": [
    "When working with timeseries data, it is important to assess the performance of basic or naive forecasting methods prior to developing more sophisticated methods. Often, such approaches can provide a reliable lower bound on model performance against which the performance of a sophisticated forecasting technique can be assessed.\n",
    "\n",
    "The naive strategy we will use here is to take the average of the electricity usage during the same period as the holdout data but from previous years. We'll use the years from 2016 to 2019 inclusive. We will naively assume that this average consumption is the forecasted load for the holdout period. Finally, we'll score this naive forecast against the true values from the holdout data."
   ]
  },
  {
   "cell_type": "markdown",
   "id": "5aa429b5-d46a-4d20-ade9-b9ad8cbf4e03",
   "metadata": {},
   "source": [
    "<a id=\"user-inputs\"></a>\n",
    "\n",
    "## 1. [User Inputs](#user-inputs)"
   ]
  },
  {
   "cell_type": "code",
   "execution_count": 4,
   "id": "337e700f-e5a7-4efb-8dff-dfa9e36b7c8c",
   "metadata": {
    "execution": {
     "iopub.execute_input": "2021-09-03T02:04:42.214897Z",
     "iopub.status.busy": "2021-09-03T02:04:42.214742Z",
     "iopub.status.idle": "2021-09-03T02:04:42.225281Z",
     "shell.execute_reply": "2021-09-03T02:04:42.224918Z",
     "shell.execute_reply.started": "2021-09-03T02:04:42.214878Z"
    },
    "tags": []
   },
   "outputs": [],
   "source": [
    "PROJ_ROOT_DIR = os.getcwd()"
   ]
  },
  {
   "cell_type": "code",
   "execution_count": 5,
   "id": "ac4d96d8-31e5-4fcc-8d6e-fe14243f6df8",
   "metadata": {
    "execution": {
     "iopub.execute_input": "2021-09-03T02:04:42.226199Z",
     "iopub.status.busy": "2021-09-03T02:04:42.226014Z",
     "iopub.status.idle": "2021-09-03T02:04:42.242745Z",
     "shell.execute_reply": "2021-09-03T02:04:42.242276Z",
     "shell.execute_reply.started": "2021-09-03T02:04:42.226166Z"
    },
    "tags": [
     "parameters"
    ]
   },
   "outputs": [],
   "source": [
    "index_name = \"utc_timestamp\"\n",
    "\n",
    "train_val_start = \"2015-01-01 00:00:00\"\n",
    "train_val_end = \"2020-07-01 23:00:00\"\n",
    "test_start = \"2020-07-02 00:00:00\"\n",
    "test_end = \"2020-09-30 23:00:00\"\n",
    "\n",
    "naive_cutoffs = [\n",
    "    [\"2016-06-30 00:00:00\", \"2016-09-28 23:00:00\"],\n",
    "    [\"2017-06-29 00:00:00\", \"2017-09-27 23:00:00\"],\n",
    "    [\"2018-07-05 00:00:00\", \"2018-10-03 23:00:00\"],\n",
    "    [\"2019-07-04 00:00:00\", \"2019-10-02 23:00:00\"],\n",
    "]\n",
    "\n",
    "renamer = {index_name: \"ds\", \"load\": \"y\"}"
   ]
  },
  {
   "cell_type": "code",
   "execution_count": 6,
   "id": "661f7cef-cdb0-41c2-9626-5eb711165fdf",
   "metadata": {
    "execution": {
     "iopub.execute_input": "2021-09-03T02:04:42.243383Z",
     "iopub.status.busy": "2021-09-03T02:04:42.243243Z",
     "iopub.status.idle": "2021-09-03T02:04:42.256459Z",
     "shell.execute_reply": "2021-09-03T02:04:42.256021Z",
     "shell.execute_reply.started": "2021-09-03T02:04:42.243369Z"
    },
    "tags": []
   },
   "outputs": [],
   "source": [
    "def get_metrics(df):\n",
    "    df = df.dropna()\n",
    "    return pd.DataFrame.from_dict(\n",
    "        score_predictions(df[\"y\"], df[\"yhat\"], get_r2=True), orient=\"index\"\n",
    "    ).T"
   ]
  },
  {
   "cell_type": "code",
   "execution_count": null,
   "id": "f1b2f82a-36ea-4b5c-bf6d-454a0c9d1110",
   "metadata": {
    "tags": []
   },
   "outputs": [],
   "source": [
    "data_dir = os.path.join(PROJ_ROOT_DIR, \"data\")\n",
    "processed_data_dir = os.path.join(data_dir, \"processed\")\n",
    "\n",
    "processed_data_filepath = glob(os.path.join(processed_data_dir, \"*.parquet.gzip\"))[-1]\n",
    "print(processed_data_filepath)"
   ]
  },
  {
   "cell_type": "markdown",
   "id": "ad23c691-49fe-43b5-8dfb-9c38dc3f22a3",
   "metadata": {},
   "source": [
    "<a id=\"load-data\"></a>\n",
    "\n",
    "## 2. [Load Data](#load-data)"
   ]
  },
  {
   "cell_type": "code",
   "execution_count": 8,
   "id": "53a852e6-2011-47c9-a9f6-a52192b810c3",
   "metadata": {
    "execution": {
     "iopub.execute_input": "2021-09-03T02:04:42.272264Z",
     "iopub.status.busy": "2021-09-03T02:04:42.272129Z",
     "iopub.status.idle": "2021-09-03T02:04:42.556802Z",
     "shell.execute_reply": "2021-09-03T02:04:42.556383Z",
     "shell.execute_reply.started": "2021-09-03T02:04:42.272248Z"
    },
    "tags": []
   },
   "outputs": [
    {
     "data": {
      "text/html": [
       "<style type=\"text/css\">\n",
       "</style>\n",
       "<table id=\"T_b6480_\">\n",
       "  <caption>First & Last 1 rows</caption>\n",
       "  <thead>\n",
       "    <tr>\n",
       "      <th class=\"blank level0\" >&nbsp;</th>\n",
       "      <th class=\"col_heading level0 col0\" >country</th>\n",
       "      <th class=\"col_heading level0 col1\" >utc_timestamp</th>\n",
       "      <th class=\"col_heading level0 col2\" >load</th>\n",
       "    </tr>\n",
       "  </thead>\n",
       "  <tbody>\n",
       "    <tr>\n",
       "      <th id=\"T_b6480_level0_row0\" class=\"row_heading level0 row0\" >0</th>\n",
       "      <td id=\"T_b6480_row0_col0\" class=\"data row0 col0\" >BE</td>\n",
       "      <td id=\"T_b6480_row0_col1\" class=\"data row0 col1\" >2015-01-01 00:00:00</td>\n",
       "      <td id=\"T_b6480_row0_col2\" class=\"data row0 col2\" >9.484000</td>\n",
       "    </tr>\n",
       "    <tr>\n",
       "      <th id=\"T_b6480_level0_row1\" class=\"row_heading level0 row1\" >503999</th>\n",
       "      <td id=\"T_b6480_row1_col0\" class=\"data row1 col0\" >PL</td>\n",
       "      <td id=\"T_b6480_row1_col1\" class=\"data row1 col1\" >2020-09-30 23:00:00</td>\n",
       "      <td id=\"T_b6480_row1_col2\" class=\"data row1 col2\" >nan</td>\n",
       "    </tr>\n",
       "  </tbody>\n",
       "</table>\n"
      ],
      "text/plain": [
       "<pandas.io.formats.style.Styler at 0x7feb835bafd0>"
      ]
     },
     "metadata": {},
     "output_type": "display_data"
    },
    {
     "data": {
      "text/html": [
       "<div>\n",
       "<style scoped>\n",
       "    .dataframe tbody tr th:only-of-type {\n",
       "        vertical-align: middle;\n",
       "    }\n",
       "\n",
       "    .dataframe tbody tr th {\n",
       "        vertical-align: top;\n",
       "    }\n",
       "\n",
       "    .dataframe thead th {\n",
       "        text-align: right;\n",
       "    }\n",
       "</style>\n",
       "<table border=\"1\" class=\"dataframe\">\n",
       "  <thead>\n",
       "    <tr style=\"text-align: right;\">\n",
       "      <th></th>\n",
       "      <th>BE</th>\n",
       "      <th>CH</th>\n",
       "      <th>CZ</th>\n",
       "      <th>DE</th>\n",
       "      <th>ES</th>\n",
       "      <th>FR</th>\n",
       "      <th>HR</th>\n",
       "      <th>IT</th>\n",
       "      <th>NL</th>\n",
       "      <th>PL</th>\n",
       "    </tr>\n",
       "  </thead>\n",
       "  <tbody>\n",
       "    <tr>\n",
       "      <th>country</th>\n",
       "      <td>50400</td>\n",
       "      <td>50400</td>\n",
       "      <td>50400</td>\n",
       "      <td>50400</td>\n",
       "      <td>50400</td>\n",
       "      <td>50400</td>\n",
       "      <td>50400</td>\n",
       "      <td>50400</td>\n",
       "      <td>50400</td>\n",
       "      <td>50400</td>\n",
       "    </tr>\n",
       "  </tbody>\n",
       "</table>\n",
       "</div>"
      ],
      "text/plain": [
       "            BE     CH     CZ     DE     ES     FR     HR     IT     NL     PL\n",
       "country  50400  50400  50400  50400  50400  50400  50400  50400  50400  50400"
      ]
     },
     "metadata": {},
     "output_type": "display_data"
    },
    {
     "name": "stdout",
     "output_type": "stream",
     "text": [
      "CPU times: user 475 ms, sys: 97.7 ms, total: 572 ms\n",
      "Wall time: 273 ms\n"
     ]
    }
   ],
   "source": [
    "%%time\n",
    "df = pd.read_parquet(processed_data_filepath)\n",
    "show_df(df[[\"country\", index_name, \"load\"]], 1)\n",
    "display(df[\"country\"].value_counts().to_frame().T)"
   ]
  },
  {
   "cell_type": "markdown",
   "id": "2f4597e4-7eb8-4c41-a2fb-fc87d0f587a8",
   "metadata": {},
   "source": [
    "<a id=\"split-data\"></a>\n",
    "\n",
    "## 3. [Split Data](#split-data)"
   ]
  },
  {
   "cell_type": "markdown",
   "id": "c3e723f4-2070-4531-b71a-dcfcbb617b0f",
   "metadata": {},
   "source": [
    "We'll now create the following two data splits\n",
    "- training\n",
    "- testing"
   ]
  },
  {
   "cell_type": "code",
   "execution_count": 9,
   "id": "69ca328f-66cb-4ae6-80d6-30378f303f5f",
   "metadata": {
    "execution": {
     "iopub.execute_input": "2021-09-03T02:04:42.557473Z",
     "iopub.status.busy": "2021-09-03T02:04:42.557356Z",
     "iopub.status.idle": "2021-09-03T02:04:42.659364Z",
     "shell.execute_reply": "2021-09-03T02:04:42.658911Z",
     "shell.execute_reply.started": "2021-09-03T02:04:42.557457Z"
    },
    "tags": []
   },
   "outputs": [
    {
     "name": "stdout",
     "output_type": "stream",
     "text": [
      "482160 21840\n"
     ]
    }
   ],
   "source": [
    "df_train_val_naive = df[\n",
    "    (df[index_name] >= train_val_start) & (df[index_name] <= train_val_end)\n",
    "].reset_index(drop=True)[[\"country\", index_name, \"load\"]]\n",
    "df_test_naive = df[\n",
    "    (df[index_name] >= test_start) & (df[index_name] <= test_end)\n",
    "].reset_index(drop=True)[[\"country\", index_name, \"load\"]]\n",
    "print(len(df_train_val_naive), len(df_test_naive))"
   ]
  },
  {
   "cell_type": "markdown",
   "id": "e0942ccd-bf26-4e31-afb6-3c3c94176226",
   "metadata": {
    "tags": []
   },
   "source": [
    "<a id=\"make-and-score-naive-forecasts\"></a>\n",
    "\n",
    "## 4. [Make and Score Naive Forecasts](#make-and-score-naive-forecasts)"
   ]
  },
  {
   "cell_type": "markdown",
   "id": "9e5eccdf-8ade-4a37-9450-8d8364dbc9dd",
   "metadata": {},
   "source": [
    "We'll now make the naive forecasts using the average of electricity consumption by country upto the specified cutoff dates"
   ]
  },
  {
   "cell_type": "code",
   "execution_count": 10,
   "id": "6fd99891-84b8-444f-beee-5138a1d94708",
   "metadata": {
    "execution": {
     "iopub.execute_input": "2021-09-03T02:04:42.660023Z",
     "iopub.status.busy": "2021-09-03T02:04:42.659912Z",
     "iopub.status.idle": "2021-09-03T02:04:42.798419Z",
     "shell.execute_reply": "2021-09-03T02:04:42.796911Z",
     "shell.execute_reply.started": "2021-09-03T02:04:42.660008Z"
    },
    "tags": []
   },
   "outputs": [
    {
     "name": "stdout",
     "output_type": "stream",
     "text": [
      "     1\t#!/usr/bin/env python3\n",
      "     2\t# -*- coding: utf-8 -*-\n",
      "     3\t\n",
      "     4\t\n",
      "     5\timport numpy as np\n",
      "     6\timport pandas as pd\n",
      "     7\tfrom sklearn.base import BaseEstimator, RegressorMixin, TransformerMixin\n",
      "     8\tfrom sklearn.utils.validation import check_array, check_X_y\n",
      "     9\t\n",
      "    10\t\n",
      "    86\tclass MultiTSCustomNaiveRegressor(BaseEstimator, RegressorMixin):\n",
      "    87\t    \"\"\"\n",
      "    88\t    Notes\n",
      "    89\t    -----\n",
      "    90\t    1. The length of the datetimes covered by the start and end of each\n",
      "    91\t       naive cutoff pair must match the unique dates in the\n",
      "    92\t       - forecast horizon\n",
      "    93\t       - out-of-sample data, on which .predict() will be called\n",
      "    94\t    2. .predict() can be called on the out-of-sample data only\n",
      "    95\t\n",
      "    96\t    Usage\n",
      "    97\t    -----\n",
      "    98\t    # Inputs\n",
      "    99\t    train_val_start = \"1800-01-01\"\n",
      "   100\t    train_val_end = \"1802-09-30\"\n",
      "   101\t    test_start = \"1802-10-01\"\n",
      "   102\t    test_end = \"1802-12-31\"\n",
      "   103\t    naive_cutoffs = [\n",
      "   104\t        [\"1800-10-01\", \"1800-12-31\"], [\"1801-10-01\", \"1801-12-31\"]\n",
      "   105\t    ]\n",
      "   106\t    index_name = \"ds\"\n",
      "   107\t    countries = [\"BE\", \"CZ\"]\n",
      "   108\t    renamer = {\"load\": \"y\"}\n",
      "   109\t\n",
      "   110\t    # Generate data\n",
      "   111\t    indx = pd.concat(\n",
      "   112\t        [\n",
      "   113\t            pd.date_range(\"1800\", \"1803\", name=\"ds\").to_frame()\n",
      "   114\t            for c in countries\n",
      "   115\t        ]\n",
      "   116\t    )\n",
      "   117\t    df = pd.DataFrame(index=indx).reset_index().rename(\n",
      "   118\t        columns={\"index\": \"ds\"}\n",
      "   119\t    )\n",
      "   120\t    cnt_list = [[c] * int(len(indx) / len(countries)) for c in countries]\n",
      "   121\t    df[\"country\"] = np.array(cnt_list).flatten()\n",
      "   122\t    df[\"load\"] = np.random.rand(len(df), 1)\n",
      "   123\t    df = df[[\"country\", \"ds\", \"load\"]]\n",
      "   124\t\n",
      "   125\t    # Split\n",
      "   126\t    df_train_val_naive = df[\n",
      "   127\t        (df[index_name] >= train_val_start)\n",
      "   128\t        & (df[index_name] <= train_val_end)\n",
      "   129\t    ].reset_index(drop=True)[['country', index_name, 'load']]\n",
      "   130\t    df_test_naive = df[\n",
      "   131\t        (df[index_name] >= test_start) & (df[index_name] <= test_end)\n",
      "   132\t    ].reset_index(drop=True)[['country', index_name, 'load']]\n",
      "   133\t\n",
      "   134\t    # Train\n",
      "   135\t    reg = MultiTSCustomNaiveRegressor(naive_cutoffs, 'ds', 'country')\n",
      "   136\t    est = Pipeline(\n",
      "   137\t        [('rename', DFColumnRenamer(renamer)), ('reg', reg)]\n",
      "   138\t    )\n",
      "   139\t    est.fit(df_train_val_naive)\n",
      "   140\t\n",
      "   141\t    # Predict\n",
      "   142\t    df_naive_pred = est.predict(df_test_naive)\n",
      "   143\t    \"\"\"\n",
      "   144\t\n",
      "   145\t    def __init__(self, naive_cutoffs, index_name=\"ds\", ts_name_col=\"country\"):\n",
      "   146\t        self.naive_cutoffs = naive_cutoffs\n",
      "   147\t        self.index_name = index_name\n",
      "   148\t        self.ts_name_col = ts_name_col\n",
      "   149\t\n",
      "   150\t    def fit(self, X, y=None, **fit_kws):\n",
      "   151\t        X = X.set_index(self.ts_name_col, append=True)\n",
      "   152\t        Xc, yc = check_X_y(X[[self.index_name]], X[\"y\"].fillna(-999))\n",
      "   153\t        X = (\n",
      "   154\t            pd.DataFrame(Xc, index=X.index, columns=[self.index_name])\n",
      "   155\t            .assign(y=yc)\n",
      "   156\t            .replace(-999, np.nan)\n",
      "   157\t        ).reset_index(level=1)\n",
      "   158\t\n",
      "   159\t        # Assemble list of historical data before each specified cutoff\n",
      "   160\t        dfs_pred_ = []\n",
      "   161\t        for naive_cutoff_ in self.naive_cutoffs:\n",
      "   162\t            low = X[self.index_name] >= naive_cutoff_[0]\n",
      "   163\t            high = X[self.index_name] <= naive_cutoff_[1]\n",
      "   164\t            df_pred = X[low & high][[self.ts_name_col, \"ds\", \"y\"]]\n",
      "   165\t            dfs_pred_.append(df_pred)\n",
      "   166\t\n",
      "   167\t        # Concatenate all data before cutoffs\n",
      "   168\t        self.df_pred_ = pd.concat(dfs_pred_, ignore_index=True)\n",
      "   169\t        return self\n",
      "   170\t\n",
      "   171\t    def predict(self, X):\n",
      "   172\t        X = X.set_index(self.ts_name_col, append=True)[[self.index_name]]\n",
      "   173\t        X = pd.DataFrame(\n",
      "   174\t            check_array(X), index=X.index, columns=list(X)\n",
      "   175\t        ).reset_index(1)\n",
      "   176\t\n",
      "   177\t        # Assemble out-of-sample dates for each timeseries being forecast\n",
      "   178\t        nrows = X[self.ts_name_col].nunique() * len(self.naive_cutoffs)\n",
      "   179\t\n",
      "   180\t        # Append column to concatenated data with future dates for which a\n",
      "   181\t        # forecast is required\n",
      "   182\t        df_pred_ = self.df_pred_.assign(\n",
      "   183\t            ds_true=list(X[self.index_name].unique()) * nrows\n",
      "   184\t        )\n",
      "   185\t\n",
      "   186\t        # GROUP BY over concatenated data by country and future date columns\n",
      "   187\t        # and compute the mean (aggregation) of historical y values\n",
      "   188\t        groupby_cols = [self.ts_name_col, f\"{self.index_name}_true\"]\n",
      "   189\t        df_pred_ = df_pred_.groupby(groupby_cols, as_index=False)[\"y\"].mean()\n",
      "   190\t\n",
      "   191\t        # Rename columns in prediction\n",
      "   192\t        renaming_dict = {\n",
      "   193\t            \"y\": \"yhat\",\n",
      "   194\t            f\"{self.index_name}_true\": self.index_name,\n",
      "   195\t        }\n",
      "   196\t        df_pred_ = df_pred_.rename(columns=renaming_dict)\n",
      "   197\t        return df_pred_\n"
     ]
    }
   ],
   "source": [
    "!cat -n src/custom_estimators.py | sed -n -e 1,10p -e 86,198p"
   ]
  },
  {
   "cell_type": "code",
   "execution_count": 11,
   "id": "032bf287-0366-4aca-9ed7-c25368718c0d",
   "metadata": {
    "execution": {
     "iopub.execute_input": "2021-09-03T02:04:42.800874Z",
     "iopub.status.busy": "2021-09-03T02:04:42.800477Z",
     "iopub.status.idle": "2021-09-03T02:04:42.937267Z",
     "shell.execute_reply": "2021-09-03T02:04:42.936841Z",
     "shell.execute_reply.started": "2021-09-03T02:04:42.800823Z"
    },
    "tags": []
   },
   "outputs": [],
   "source": [
    "est = Pipeline(\n",
    "    [\n",
    "        (\"rename\", DFColumnRenamer(renamer)),\n",
    "        (\"reg\", MultiTSCustomNaiveRegressor(naive_cutoffs, \"ds\", \"country\")),\n",
    "    ]\n",
    ")\n",
    "est.fit(df_train_val_naive)\n",
    "df_naive_pred = est.predict(df_test_naive)"
   ]
  },
  {
   "cell_type": "markdown",
   "id": "4051bc56-0c9a-42a2-a71d-ec15011f6d97",
   "metadata": {},
   "source": [
    "We'll now score the forecasted values against the true consumption from the test split"
   ]
  },
  {
   "cell_type": "code",
   "execution_count": 12,
   "id": "22f2e023-0459-4662-9503-5179ec897aed",
   "metadata": {
    "execution": {
     "iopub.execute_input": "2021-09-03T02:04:42.938621Z",
     "iopub.status.busy": "2021-09-03T02:04:42.938379Z",
     "iopub.status.idle": "2021-09-03T02:04:42.996537Z",
     "shell.execute_reply": "2021-09-03T02:04:42.996163Z",
     "shell.execute_reply.started": "2021-09-03T02:04:42.938607Z"
    },
    "tags": []
   },
   "outputs": [
    {
     "data": {
      "text/html": [
       "<style type=\"text/css\">\n",
       "</style>\n",
       "<table id=\"T_e7be4_\">\n",
       "  <caption>OOS Evaluation Metrics from Naive Forecast</caption>\n",
       "  <thead>\n",
       "    <tr>\n",
       "      <th class=\"blank level0\" >&nbsp;</th>\n",
       "      <th class=\"col_heading level0 col0\" >rmse</th>\n",
       "      <th class=\"col_heading level0 col1\" >mae</th>\n",
       "      <th class=\"col_heading level0 col2\" >smape(%)</th>\n",
       "      <th class=\"col_heading level0 col3\" >mse</th>\n",
       "      <th class=\"col_heading level0 col4\" >type</th>\n",
       "      <th class=\"col_heading level0 col5\" >r2</th>\n",
       "      <th class=\"col_heading level0 col6\" >rmspe(%)</th>\n",
       "    </tr>\n",
       "    <tr>\n",
       "      <th class=\"index_name level0\" >country</th>\n",
       "      <th class=\"blank col0\" >&nbsp;</th>\n",
       "      <th class=\"blank col1\" >&nbsp;</th>\n",
       "      <th class=\"blank col2\" >&nbsp;</th>\n",
       "      <th class=\"blank col3\" >&nbsp;</th>\n",
       "      <th class=\"blank col4\" >&nbsp;</th>\n",
       "      <th class=\"blank col5\" >&nbsp;</th>\n",
       "      <th class=\"blank col6\" >&nbsp;</th>\n",
       "    </tr>\n",
       "  </thead>\n",
       "  <tbody>\n",
       "    <tr>\n",
       "      <th id=\"T_e7be4_level0_row0\" class=\"row_heading level0 row0\" >BE</th>\n",
       "      <td id=\"T_e7be4_row0_col0\" class=\"data row0 col0\" >0.602948</td>\n",
       "      <td id=\"T_e7be4_row0_col1\" class=\"data row0 col1\" >0.509517</td>\n",
       "      <td id=\"T_e7be4_row0_col2\" class=\"data row0 col2\" >5.672767</td>\n",
       "      <td id=\"T_e7be4_row0_col3\" class=\"data row0 col3\" >0.363546</td>\n",
       "      <td id=\"T_e7be4_row0_col4\" class=\"data row0 col4\" >pred</td>\n",
       "      <td id=\"T_e7be4_row0_col5\" class=\"data row0 col5\" >0.691537</td>\n",
       "      <td id=\"T_e7be4_row0_col6\" class=\"data row0 col6\" >7.011721</td>\n",
       "    </tr>\n",
       "    <tr>\n",
       "      <th id=\"T_e7be4_level0_row1\" class=\"row_heading level0 row1\" >CH</th>\n",
       "      <td id=\"T_e7be4_row1_col0\" class=\"data row1 col0\" >0.495981</td>\n",
       "      <td id=\"T_e7be4_row1_col1\" class=\"data row1 col1\" >0.366660</td>\n",
       "      <td id=\"T_e7be4_row1_col2\" class=\"data row1 col2\" >5.941733</td>\n",
       "      <td id=\"T_e7be4_row1_col3\" class=\"data row1 col3\" >0.245997</td>\n",
       "      <td id=\"T_e7be4_row1_col4\" class=\"data row1 col4\" >pred</td>\n",
       "      <td id=\"T_e7be4_row1_col5\" class=\"data row1 col5\" >0.457985</td>\n",
       "      <td id=\"T_e7be4_row1_col6\" class=\"data row1 col6\" >7.633739</td>\n",
       "    </tr>\n",
       "    <tr>\n",
       "      <th id=\"T_e7be4_level0_row2\" class=\"row_heading level0 row2\" >CZ</th>\n",
       "      <td id=\"T_e7be4_row2_col0\" class=\"data row2 col0\" >0.309780</td>\n",
       "      <td id=\"T_e7be4_row2_col1\" class=\"data row2 col1\" >0.235938</td>\n",
       "      <td id=\"T_e7be4_row2_col2\" class=\"data row2 col2\" >3.677630</td>\n",
       "      <td id=\"T_e7be4_row2_col3\" class=\"data row2 col3\" >0.095963</td>\n",
       "      <td id=\"T_e7be4_row2_col4\" class=\"data row2 col4\" >pred</td>\n",
       "      <td id=\"T_e7be4_row2_col5\" class=\"data row2 col5\" >0.914724</td>\n",
       "      <td id=\"T_e7be4_row2_col6\" class=\"data row2 col6\" >5.132611</td>\n",
       "    </tr>\n",
       "    <tr>\n",
       "      <th id=\"T_e7be4_level0_row3\" class=\"row_heading level0 row3\" >DE</th>\n",
       "      <td id=\"T_e7be4_row3_col0\" class=\"data row3 col0\" >2.756419</td>\n",
       "      <td id=\"T_e7be4_row3_col1\" class=\"data row3 col1\" >2.345765</td>\n",
       "      <td id=\"T_e7be4_row3_col2\" class=\"data row3 col2\" >4.460283</td>\n",
       "      <td id=\"T_e7be4_row3_col3\" class=\"data row3 col3\" >7.597846</td>\n",
       "      <td id=\"T_e7be4_row3_col4\" class=\"data row3 col4\" >pred</td>\n",
       "      <td id=\"T_e7be4_row3_col5\" class=\"data row3 col5\" >0.905668</td>\n",
       "      <td id=\"T_e7be4_row3_col6\" class=\"data row3 col6\" >5.368848</td>\n",
       "    </tr>\n",
       "    <tr>\n",
       "      <th id=\"T_e7be4_level0_row4\" class=\"row_heading level0 row4\" >ES</th>\n",
       "      <td id=\"T_e7be4_row4_col0\" class=\"data row4 col0\" >1.504804</td>\n",
       "      <td id=\"T_e7be4_row4_col1\" class=\"data row4 col1\" >1.224064</td>\n",
       "      <td id=\"T_e7be4_row4_col2\" class=\"data row4 col2\" >4.305789</td>\n",
       "      <td id=\"T_e7be4_row4_col3\" class=\"data row4 col3\" >2.264434</td>\n",
       "      <td id=\"T_e7be4_row4_col4\" class=\"data row4 col4\" >pred</td>\n",
       "      <td id=\"T_e7be4_row4_col5\" class=\"data row4 col5\" >0.877177</td>\n",
       "      <td id=\"T_e7be4_row4_col6\" class=\"data row4 col6\" >5.486631</td>\n",
       "    </tr>\n",
       "    <tr>\n",
       "      <th id=\"T_e7be4_level0_row5\" class=\"row_heading level0 row5\" >FR</th>\n",
       "      <td id=\"T_e7be4_row5_col0\" class=\"data row5 col0\" >3.255397</td>\n",
       "      <td id=\"T_e7be4_row5_col1\" class=\"data row5 col1\" >1.918370</td>\n",
       "      <td id=\"T_e7be4_row5_col2\" class=\"data row5 col2\" >4.266561</td>\n",
       "      <td id=\"T_e7be4_row5_col3\" class=\"data row5 col3\" >10.597610</td>\n",
       "      <td id=\"T_e7be4_row5_col4\" class=\"data row5 col4\" >pred</td>\n",
       "      <td id=\"T_e7be4_row5_col5\" class=\"data row5 col5\" >0.724029</td>\n",
       "      <td id=\"T_e7be4_row5_col6\" class=\"data row5 col6\" >5.522784</td>\n",
       "    </tr>\n",
       "    <tr>\n",
       "      <th id=\"T_e7be4_level0_row6\" class=\"row_heading level0 row6\" >HR</th>\n",
       "      <td id=\"T_e7be4_row6_col0\" class=\"data row6 col0\" >0.159696</td>\n",
       "      <td id=\"T_e7be4_row6_col1\" class=\"data row6 col1\" >0.124162</td>\n",
       "      <td id=\"T_e7be4_row6_col2\" class=\"data row6 col2\" >6.083965</td>\n",
       "      <td id=\"T_e7be4_row6_col3\" class=\"data row6 col3\" >0.025503</td>\n",
       "      <td id=\"T_e7be4_row6_col4\" class=\"data row6 col4\" >pred</td>\n",
       "      <td id=\"T_e7be4_row6_col5\" class=\"data row6 col5\" >0.803608</td>\n",
       "      <td id=\"T_e7be4_row6_col6\" class=\"data row6 col6\" >8.119956</td>\n",
       "    </tr>\n",
       "    <tr>\n",
       "      <th id=\"T_e7be4_level0_row7\" class=\"row_heading level0 row7\" >IT</th>\n",
       "      <td id=\"T_e7be4_row7_col0\" class=\"data row7 col0\" >2.328027</td>\n",
       "      <td id=\"T_e7be4_row7_col1\" class=\"data row7 col1\" >1.895235</td>\n",
       "      <td id=\"T_e7be4_row7_col2\" class=\"data row7 col2\" >5.563552</td>\n",
       "      <td id=\"T_e7be4_row7_col3\" class=\"data row7 col3\" >5.419709</td>\n",
       "      <td id=\"T_e7be4_row7_col4\" class=\"data row7 col4\" >pred</td>\n",
       "      <td id=\"T_e7be4_row7_col5\" class=\"data row7 col5\" >0.881743</td>\n",
       "      <td id=\"T_e7be4_row7_col6\" class=\"data row7 col6\" >6.883235</td>\n",
       "    </tr>\n",
       "    <tr>\n",
       "      <th id=\"T_e7be4_level0_row8\" class=\"row_heading level0 row8\" >NL</th>\n",
       "      <td id=\"T_e7be4_row8_col0\" class=\"data row8 col0\" >1.473924</td>\n",
       "      <td id=\"T_e7be4_row8_col1\" class=\"data row8 col1\" >1.133056</td>\n",
       "      <td id=\"T_e7be4_row8_col2\" class=\"data row8 col2\" >9.310599</td>\n",
       "      <td id=\"T_e7be4_row8_col3\" class=\"data row8 col3\" >2.172453</td>\n",
       "      <td id=\"T_e7be4_row8_col4\" class=\"data row8 col4\" >pred</td>\n",
       "      <td id=\"T_e7be4_row8_col5\" class=\"data row8 col5\" >0.012187</td>\n",
       "      <td id=\"T_e7be4_row8_col6\" class=\"data row8 col6\" >13.175371</td>\n",
       "    </tr>\n",
       "    <tr>\n",
       "      <th id=\"T_e7be4_level0_row9\" class=\"row_heading level0 row9\" >PL</th>\n",
       "      <td id=\"T_e7be4_row9_col0\" class=\"data row9 col0\" >0.618286</td>\n",
       "      <td id=\"T_e7be4_row9_col1\" class=\"data row9 col1\" >0.486836</td>\n",
       "      <td id=\"T_e7be4_row9_col2\" class=\"data row9 col2\" >2.698834</td>\n",
       "      <td id=\"T_e7be4_row9_col3\" class=\"data row9 col3\" >0.382278</td>\n",
       "      <td id=\"T_e7be4_row9_col4\" class=\"data row9 col4\" >pred</td>\n",
       "      <td id=\"T_e7be4_row9_col5\" class=\"data row9 col5\" >0.952475</td>\n",
       "      <td id=\"T_e7be4_row9_col6\" class=\"data row9 col6\" >3.425414</td>\n",
       "    </tr>\n",
       "  </tbody>\n",
       "</table>\n"
      ],
      "text/plain": [
       "<pandas.io.formats.style.Styler at 0x7feb84b664c0>"
      ]
     },
     "metadata": {},
     "output_type": "display_data"
    }
   ],
   "source": [
    "dfs_scores_naive = (\n",
    "    df_naive_pred.merge(\n",
    "        df_test_naive.rename(columns=renamer), on=[\"country\", \"ds\"], how=\"left\"\n",
    "    )\n",
    "    .groupby(\"country\")\n",
    "    .apply(get_metrics)\n",
    "    .reset_index(level=1, drop=True)\n",
    ")\n",
    "display(\n",
    "    dfs_scores_naive.style.set_caption(\"OOS Evaluation Metrics from Naive Forecast\")\n",
    ")"
   ]
  },
  {
   "cell_type": "markdown",
   "id": "54e8d8cc-23ba-4b75-9335-f495ae56e355",
   "metadata": {},
   "source": [
    "A non-naive model with skill should perform better than these naive forecast metrics."
   ]
  },
  {
   "cell_type": "markdown",
   "id": "c9cc3286-6dcc-4916-b790-ca360eafd7e4",
   "metadata": {},
   "source": [
    "---"
   ]
  },
  {
   "cell_type": "markdown",
   "id": "812d5ea1-4513-442d-98cd-c1747ec0e0cb",
   "metadata": {},
   "source": [
    "<span style=\"float:left\">\n",
    "    <a href=\"./0_get_data.ipynb\"><<< 0 - Get Data</a>\n",
    "</span>\n",
    "\n",
    "<span style=\"float:right\">\n",
    "    <a href=\"./2_train.ipynb\">2 - Prophet model training >>></a>\n",
    "</span>"
   ]
  }
 ],
 "metadata": {
  "kernelspec": {
   "display_name": "Python 3",
   "language": "python",
   "name": "python3"
  },
  "language_info": {
   "codemirror_mode": {
    "name": "ipython",
    "version": 3
   },
   "file_extension": ".py",
   "mimetype": "text/x-python",
   "name": "python",
   "nbconvert_exporter": "python",
   "pygments_lexer": "ipython3",
   "version": "3.8.10"
  }
 },
 "nbformat": 4,
 "nbformat_minor": 5
}
